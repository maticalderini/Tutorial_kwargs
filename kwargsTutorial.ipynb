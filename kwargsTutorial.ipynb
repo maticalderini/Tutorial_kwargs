{
 "cells": [
  {
   "cell_type": "markdown",
   "metadata": {},
   "source": [
    "# An intuitive but comprehensive tutorial on \\*args and \\*\\*kwargs to finally put your questions to rest\n",
    "\n",
    ">TLDR; use ```*args``` to pack/unpack tuples into the variable ```args``` and ```**kwargs``` to pack/unpack dictionaries in the variable ```kwargs```\n",
    "\n",
    "<img src=\"both.png\" alt=\"both\" style=\"width: 500px;\"/>\n",
    "\n",
    "\n",
    "In a [recent post](https://towardsdatascience.com/creating-custom-plotting-functions-with-matplotlib-1f4b8eba6aa1), I explained how to create custom plotting functions with matplotlib. Unavoidably, to do so, we needed some heavy use of \\*\\*kwargs so I briefly introduced them there.\n",
    "\n",
    "Unfortunately, ```**kwargs``` along with ```*args``` are one of the most consistenly puzzling aspects of python programming for begginners. You might have seen ```*args``` and ```*kwargs``` being used in other people's code or maybe on the documentation of your favourite libraries. You might have already looked for simple explanations, but all the tutorials you found were as consistenly confusing as the subject itself.\n",
    "\n",
    "While my explanation of ```**kwargs``` for plotting in the afore-plugged post, was sufficient for the purposes of that post (at least I certainly hope so!), I have been asked to release the sequel (prequel?) post where I more thoroughly go through the famous ```*args``` and ```**kwargs``` in an intuitive, step-by-step fashion so you won't need another tutorial about them ever again. I hope that by the end of the post, you'll see that they are actually extremely simple operators and you'll be able to start putting them into all of your functions right away to make them more flexible, simpler to use and easier to read.\n",
    "\n",
    "After finishing this post, I highly recommend you head to that other post of mine so you can see a real application of the theory here in creating custom plotting functions with matplotlib.That being said, without further a-plug, I present you ```*args``` and ```**kwargs```."
   ]
  },
  {
   "cell_type": "markdown",
   "metadata": {},
   "source": [
    "# The single star operator - \\*\n",
    "## \\*args for packing - Finding a home for lost arguments\n",
    "<img src=\"1_asterisk_right.png\" alt=\"both\" style=\"width: 500px;\"/>\n",
    "\n",
    "The first way to use the famous stars ```*```, ```**``` is as \"packers\". Think of the stars as taking all the objects that were left hanging by pre-defined variables and storing them all together within a single object. Let's see this in the following series of examples.\n",
    "\n",
    "First, let's create an array with 3 elements and then store each element in a different variable:"
   ]
  },
  {
   "cell_type": "code",
   "execution_count": 4,
   "metadata": {},
   "outputs": [
    {
     "name": "stdout",
     "output_type": "stream",
     "text": [
      "a: 1\n",
      "b: 2\n",
      "c: 3\n"
     ]
    }
   ],
   "source": [
    "a, b, c = [1, 2, 3]\n",
    "print(f\"a: {a}\\nb: {b}\\nc: {c}\") #Simply printing them on separate lines for those not used to f-strings"
   ]
  },
  {
   "cell_type": "markdown",
   "metadata": {},
   "source": [
    "That was probably particularly uninteresting, but imagine now that instead of three variables and three elements, we keep the three variables *a*, *b*, *c*, but increase the number of elements to 6. You could first try doing it like this:\n",
    "\n",
    "```python\n",
    "a, b, c = [1, 2, 3, 4, 5, 6]\n",
    "```\n",
    "\n",
    "If you did try it, you saw that this rightfully leads to an error. After all, we are trying to put six distinct elements into three variables. Let's say that you wanted the first element to be stored in *a*, the second element to be stored in *b* and all the rest in a list inside of *c*.\n",
    "\n",
    "You could definitely do something like this:\n",
    "```python\n",
    "array = [1, 2, 3, 4, 5, 6]\n",
    "a, b, c = array[0], array[1], array[2:]\n",
    "```\n",
    "Instead though, look at this sample one-liner:"
   ]
  },
  {
   "cell_type": "code",
   "execution_count": 10,
   "metadata": {},
   "outputs": [
    {
     "name": "stdout",
     "output_type": "stream",
     "text": [
      "a: 1\n",
      "b: 2\n",
      "c: [3, 4, 5, 6]\n"
     ]
    }
   ],
   "source": [
    "a, b, *c = [1, 2, 3, 4, 5, 6]\n",
    "\n",
    "print(f\"a: {a}\\nb: {b}\\nc: {c}\") #Simply printing them on separate lines for those not used to f-strings"
   ]
  },
  {
   "cell_type": "markdown",
   "metadata": {},
   "source": [
    "What's the difference between this example and the one that didn't work? Imagine that the variables are filled by the array elements one at a time: \n",
    "* The 1 is put inside the *a*. No problem.\n",
    "* The 2 is put inside the *b*. No problem.\n",
    "* The 3 is put inside the *c*. No problem.\n",
    "* The whole sub-list of numbers from 4 to 6 can't be put anywhere. Problem.\n",
    "\n",
    "Indeed, we are leaving a whole chunk of the list orphan and python doesn't deal well with objects that are left hanging. What we need is a function that would be able to recognize which objects are left in limbo and put them together in a list so we don't get more errors. That's exactly what the ```*``` stands for.\n",
    "\n",
    "When we write ```*c``` we are essentially saying ```c = [all that's left, packed inside a list]```. Instead of ```*c```, we could also have written ```*args```, ```*random_name```, ```*args_is_a_convention```, because the actual word that comes after the ```*``` will be the name of the list that will hold all of the elements that were not already put inside a variable:"
   ]
  },
  {
   "cell_type": "code",
   "execution_count": 13,
   "metadata": {},
   "outputs": [
    {
     "name": "stdout",
     "output_type": "stream",
     "text": [
      "[3, 4, 5, 6]\n"
     ]
    }
   ],
   "source": [
    "a, b, *args = [1, 2, 3, 4, 5, 6]\n",
    "print(args)"
   ]
  },
  {
   "cell_type": "code",
   "execution_count": 19,
   "metadata": {},
   "outputs": [
    {
     "name": "stdout",
     "output_type": "stream",
     "text": [
      "[3, 4, 5, 6]\n"
     ]
    }
   ],
   "source": [
    "a, b, *random_name = [1, 2, 3, 4, 5, 6]\n",
    "print(random_name)"
   ]
  },
  {
   "cell_type": "markdown",
   "metadata": {},
   "source": [
    "I keep using the ```*``` with the very last variable to store all the elements left after ```a``` and ```b``` took their share of the list. But when I mean that ```*``` will take all of the remaining elements, it doesn't necessarily mean the ones at the end of a list. We could just as well save the first and last elements in ```a``` and ```c``` respectively and use ```*``` to store whatever is left:"
   ]
  },
  {
   "cell_type": "code",
   "execution_count": 20,
   "metadata": {},
   "outputs": [
    {
     "name": "stdout",
     "output_type": "stream",
     "text": [
      "[2, 3, 4, 5]\n"
     ]
    }
   ],
   "source": [
    "a, *args_is_a_convention, c = [1, 2, 3, 4, 5, 6]\n",
    "\n",
    "print(args_is_a_convention)"
   ]
  },
  {
   "cell_type": "markdown",
   "metadata": {},
   "source": [
    "This is all great, but it seems like quite the niche use case for something so often talked about. Why should anyone care about it? The answer to that is found when using this cool property of ```*``` in your function definitions.\n",
    "\n",
    "##  \\*args for packing - Adding flexibility to your functions' argument intake\n",
    "\n",
    "Let's create and use a basic function with different possible inputs (aka. arguments, you might already see where I'm going with this):"
   ]
  },
  {
   "cell_type": "code",
   "execution_count": 31,
   "metadata": {},
   "outputs": [
    {
     "name": "stdout",
     "output_type": "stream",
     "text": [
      "a: The name\n",
      "b: 2\n",
      "c: False\n"
     ]
    }
   ],
   "source": [
    "def basic_function(a, b, c):\n",
    "    print(f\"a: {a}\\nb: {b}\\nc: {c}\")\n",
    "    \n",
    "basic_function('The name', 2, False)"
   ]
  },
  {
   "cell_type": "markdown",
   "metadata": {},
   "source": [
    "Nothing fancy there. What we did was set up the function so it takes three values and stores them in the variables ```a```, ```b``` and ```c``` respectively. We chose to give these variables the values of ```'The name'```, ```2``` and ```False``` respectively. This is quite similar to the first scenario above, isn't it?"
   ]
  },
  {
   "cell_type": "code",
   "execution_count": 32,
   "metadata": {},
   "outputs": [
    {
     "name": "stdout",
     "output_type": "stream",
     "text": [
      "a: The name\n",
      "b: 2\n",
      "c: False\n"
     ]
    }
   ],
   "source": [
    "a, b, c = ['The name', 2, False]\n",
    "print(f\"a: {a}\\nb: {b}\\nc: {c}\")"
   ]
  },
  {
   "cell_type": "markdown",
   "metadata": {},
   "source": [
    "Basically, our function definition is acting in the same way as our variable declaration (left-hand side of the equal sign) and using the function itself is like writing down the values to be placed on each variable (right-hand side of the equal sign).\n",
    "\n",
    "So what would happen if, instead of passing three values to the function, we tried passing 6 like this:\n",
    "```python\n",
    "basic_function('The name', 2, False, 1, 'Last Name')\n",
    "```\n",
    "You could try it, but it will again give you an error. That is because we are essentially trying to pack to many values into too few variables again:\n",
    "\n",
    "```python\n",
    "a, b, c = ['The name', 2, False, 1, 'Last Name']\n",
    "```\n",
    "\n",
    "To address this, we will make ```c``` able to take in all the values that ```a``` and ```b``` fail to take for themselves. For this, we will modify our function slightly to match the same solution we had before:"
   ]
  },
  {
   "cell_type": "code",
   "execution_count": 33,
   "metadata": {},
   "outputs": [
    {
     "name": "stdout",
     "output_type": "stream",
     "text": [
      "a: The name\n",
      "b: 2\n",
      "c: (False, 12, 5)\n"
     ]
    }
   ],
   "source": [
    "def basic_function(a, b, *c):\n",
    "    print(f\"a: {a}\\nb: {b}\\nc: {c}\")\n",
    "    \n",
    "basic_function('The name', 2, False, 12, 5)"
   ]
  },
  {
   "cell_type": "markdown",
   "metadata": {},
   "source": [
    "We see again that the syntax ```*c``` packed all the arguments that were not being taken by ```a``` and ```b``` into a list called ```c``` (like always, instead of ```c``` this could have been named anything). There is one important caveat you might have spotted in the last example that is very important to remember. By default, the resulting object ```c``` is going to be a **tuple, not a list**, which comes with important considerations when you try to use it later (such sa the fact that tuples are immutable as opposed to lists). You can always convert it to a list later in your function if you needed to...\n",
    "\n",
    "One thing that confuses many people when first using ```*``` is that ```c``` does not \"act as a tuple but secretly it is a starred tuple\". ```c``` **is a tuple**, period. It is worth repeating, ```*name``` will simply take all the extra arguments and store them in a tuple called ```name```. As such, we can use it like we use all tuples. Look at the following example that slightly tweaks the basic function:"
   ]
  },
  {
   "cell_type": "code",
   "execution_count": 41,
   "metadata": {},
   "outputs": [
    {
     "name": "stdout",
     "output_type": "stream",
     "text": [
      "Type of args: <class 'tuple'>\n",
      "First element of args list: 2\n",
      "Summed elements of args: 12\n"
     ]
    }
   ],
   "source": [
    "def basic_function(a, b, *args):\n",
    "    args_type = type(args)\n",
    "    first_element = args[0]\n",
    "    summed_args = sum(args)\n",
    "    \n",
    "    print(f\"Type of args: {args_type}\")\n",
    "    print(f\"First element of args list: {first_element}\")\n",
    "    print(f\"Summed elements of args: {summed_args}\")\n",
    "    \n",
    "basic_function('The name', False, 2, 5, 5)"
   ]
  },
  {
   "cell_type": "markdown",
   "metadata": {},
   "source": [
    "You see, args here was very much a tuple so we could ask for its type (tuple...), we can get elements by index, sum it, etc.\n",
    "\n",
    "If this is not your first tutorial on ```*args``` you might have seen how this is used to define a function that sums all numbers provided. While I believe that it is often a bad example and badly used at the same time, with the previous example you should be able to understand how it works:"
   ]
  },
  {
   "cell_type": "code",
   "execution_count": 42,
   "metadata": {},
   "outputs": [
    {
     "name": "stdout",
     "output_type": "stream",
     "text": [
      "20\n"
     ]
    }
   ],
   "source": [
    "def example_of_sum(*args):\n",
    "    print(sum(args))\n",
    "    \n",
    "example_of_sum(1, 9, 4, 6)"
   ]
  },
  {
   "cell_type": "markdown",
   "metadata": {},
   "source": [
    "Since there were no variables available other than ```*args``` (no ```a``` or ```b```), the resulting tuple ```args``` contained all the values provided (1, 9, 4, 6).\n",
    "\n",
    "One quick note before you run out to start defining your own functions with ```*```. As you saw in the last two examples, I used the conventional name ```args``` for the resulting tuple. I would recommend that you also use ```args``` as a name for your tuple (or at least some word that involves clearly \"args\" in it) so when people read your code, they can easily recognize what you are doing.\n",
    "\n",
    "Second and more important: while we could do something like this before:\n",
    "```python\n",
    "a, *b, c = [1, 2, 3, 4, 5, 6]\n",
    "```\n",
    "to store all the values except the first and last inside of ```b```, you can't do the same when defining functions. In other words, **this would not work** (so definitely try it):\n",
    "\n",
    "```python\n",
    "def basic_function(a, *args, c):\n",
    "    print(a) #example of a random command\n",
    "```\n",
    "\n",
    "When you are using ```*args``` in your functions, it has to come last after all of your defined arguments (before ```**kwargs``` actually, but we will see that shortly). So ```def basic_function(a, *args, c):``` is **wrong**, and ```def basic_function(a, c, *args):``` is **right**.\n",
    "\n",
    "That pretty much covers what ```*``` does as what I called a \"packing machine\". It takes the forgotten objects or inputs and puts them inside a tuple. Let's see now the flip side of the coin."
   ]
  },
  {
   "cell_type": "markdown",
   "metadata": {},
   "source": [
    "##  \\*args for unpacking -  Setting list elements free\n",
    "\n",
    "<img src=\"1_asterisk_left.png\" alt=\"1left\" style=\"width: 500px;\"/>\n",
    "\n",
    "This section will be surprisingly short compared to the next one and so will those that explain how ```**kwargs``` worked because the essentials were mainly covered in the previous section.\n",
    "\n",
    "Here, we will see another common use of ```*``` which is **the exact opposite** of what it did before. This is another confusing behaviour of ```*``` that scares people away from using ```*args``` in their code. When we used it before, it was always associated with what we can call an \"unclaimed variable\". In other words ```*args``` was equivalent to say \"take all the remaining variables and put them inside the tuple called ```args```\".\n",
    "\n",
    "If you use ```*``` in a tuple or list (whether they were created with ```*``` or not), this time, all the elements stored inside the tuple will be unpacked. Since you can't simply throw objects to the wind without having a variable to catch them, normally this unpacking of tuples and lists with ```*``` are done inside of another function. Let's clarify it all with an example:"
   ]
  },
  {
   "cell_type": "code",
   "execution_count": 49,
   "metadata": {},
   "outputs": [
    {
     "name": "stdout",
     "output_type": "stream",
     "text": [
      "(1, 2, 3)\n"
     ]
    }
   ],
   "source": [
    "my_tuple = (1, 2, 3)\n",
    "print(my_tuple)"
   ]
  },
  {
   "cell_type": "markdown",
   "metadata": {},
   "source": [
    "Nothing interesting here. Let's see what happens with ```*```:"
   ]
  },
  {
   "cell_type": "code",
   "execution_count": 50,
   "metadata": {},
   "outputs": [
    {
     "name": "stdout",
     "output_type": "stream",
     "text": [
      "1 2 3\n"
     ]
    }
   ],
   "source": [
    "my_tuple = (1, 2, 3)\n",
    "print(*my_tuple)"
   ]
  },
  {
   "cell_type": "markdown",
   "metadata": {},
   "source": [
    "It might not be evident at a first glance, but you should notice that instead of being inside parentheses and separated by commas, the numbers inside the tuple are now all free and independent from each other. You can try it with a list:"
   ]
  },
  {
   "cell_type": "code",
   "execution_count": 51,
   "metadata": {},
   "outputs": [
    {
     "name": "stdout",
     "output_type": "stream",
     "text": [
      "1 2 3\n"
     ]
    }
   ],
   "source": [
    "my_list = [1, 2, 3]\n",
    "print(*my_list)"
   ]
  },
  {
   "cell_type": "markdown",
   "metadata": {},
   "source": [
    "You can actually try it with all kind of objects and see different results (dictionaries for starters might give a potentially unexpected result):"
   ]
  },
  {
   "cell_type": "code",
   "execution_count": 52,
   "metadata": {},
   "outputs": [
    {
     "name": "stdout",
     "output_type": "stream",
     "text": [
      "1 2 3\n"
     ]
    }
   ],
   "source": [
    "my_set = {1, 2, 3}\n",
    "print(*my_set)"
   ]
  },
  {
   "cell_type": "code",
   "execution_count": 53,
   "metadata": {},
   "outputs": [
    {
     "name": "stdout",
     "output_type": "stream",
     "text": [
      "first second third\n"
     ]
    }
   ],
   "source": [
    "my_dict = {'first':1, 'second':2, 'third':3}\n",
    "print(*my_dict)"
   ]
  },
  {
   "cell_type": "markdown",
   "metadata": {},
   "source": [
    "You get the idea though. So why is this useful? Mainly, so you can pass the elements of your list as independent, to a function that expects independent values instead of a tuple or a list. This is a particularly useful behaviour when you have functions within functions (which I find even more important with ```**kwargs```... won't be long now...). \n",
    "\n",
    "Imagine for example that we don't have much control over the function definition (maybe its part of another library and you don't want to dig through the source code) and you happen to have your data stored in a tuple already:"
   ]
  },
  {
   "cell_type": "code",
   "execution_count": 55,
   "metadata": {},
   "outputs": [],
   "source": [
    "def function_from_library(a, b, c):\n",
    "    print(f\"a: {a}\\nb: {b}\\nc: {c}\")\n",
    "    \n",
    "my_tuple = (\"First Name\", \"Last Name\", \"email\")"
   ]
  },
  {
   "cell_type": "markdown",
   "metadata": {},
   "source": [
    "you can now feed your tuple easily with:"
   ]
  },
  {
   "cell_type": "code",
   "execution_count": 56,
   "metadata": {},
   "outputs": [
    {
     "name": "stdout",
     "output_type": "stream",
     "text": [
      "a: First Name\n",
      "b: Last Name\n",
      "c: email\n"
     ]
    }
   ],
   "source": [
    "function_from_library(*my_tuple)"
   ]
  },
  {
   "cell_type": "markdown",
   "metadata": {},
   "source": [
    "If this was an underwhelming result, then:\n",
    "1. That's great, you understand that *args are actually not difficult at all\n",
    "2. You might find in the future that it can actually solve some problems very neatly\n",
    "3. \\*\\*kwargs might actually be more interesting to you (almost there...)\n",
    "\n",
    "In short, you saw how to use ```*``` as both a packing and an unpacking operator on your data depending on whether it's a group of separate individual objects or a bundled collection of them. And now... to ```**kwargs```!."
   ]
  },
  {
   "cell_type": "markdown",
   "metadata": {},
   "source": [
    "##  \\*\\*kwargs for packing - Finding a home for lost keyword arguments\n",
    "\n",
    "<img src=\"2_asterisk_right.png\" alt=\"2right\" style=\"width: 500px;\"/>\n",
    "\n",
    "If you've read and understood the explanation above about ```*``` and ```args```, then the next section will go smoothly for you. We saw that ```*name``` would pack free-roaming arguments into a tuple for later use under the variable ```name```.\n",
    "\n",
    "On the other hand, ```**kwargs``` will do the exact same thing, but with key-value pairs packed into a dictionary. The best way to see this is going directly to a function definition:"
   ]
  },
  {
   "cell_type": "code",
   "execution_count": 2,
   "metadata": {},
   "outputs": [
    {
     "name": "stdout",
     "output_type": "stream",
     "text": [
      "a: 4\n",
      "b: [1, 2, 3]\n",
      "c: True\n"
     ]
    }
   ],
   "source": [
    "def not_using_kwargs(a, b, c):\n",
    "    print(f\"a: {a}\\nb: {b}\\nc: {c}\")\n",
    "    \n",
    "not_using_kwargs(a=4, b=[1, 2, 3], c=True)"
   ]
  },
  {
   "cell_type": "markdown",
   "metadata": {},
   "source": [
    "While the function itself is no different from what we used before, we actually used it differently here. In this case, we were very explicit in telling the function what we wanted each parameter to be:\n",
    "\n",
    "```python\n",
    "not_using_kwargs(a=4, b=[1, 2, 3], c=True)\n",
    "```\n",
    "\n",
    "as opposed to simply\n",
    "\n",
    "```python\n",
    "not_using_kwargs(4, [1, 2, 3], True)\n",
    "```\n",
    "\n",
    "Explicitly writing the name of the parameters is useful in that you don't need to remember their order within the function to use it properly (imagine if you had 10 or 20 possible parameters). We could for example have written them in a different order and the function would still have worked as intended:"
   ]
  },
  {
   "cell_type": "code",
   "execution_count": 3,
   "metadata": {},
   "outputs": [
    {
     "name": "stdout",
     "output_type": "stream",
     "text": [
      "a: 4\n",
      "b: [1, 2, 3]\n",
      "c: True\n"
     ]
    }
   ],
   "source": [
    "not_using_kwargs(b=[1, 2, 3], c=True, a=4)"
   ]
  },
  {
   "cell_type": "markdown",
   "metadata": {},
   "source": [
    "So what happens if we introduce a new undefined parameter when we use the function as in here:\n",
    "```python\n",
    "not_using_kwargs(b=[1, 2, 3], c=True, a=4, so_new=True)\n",
    "```\n",
    "Unsurprisingly again, things will break down because the function was not expecting a fourth parameter. As we will see in an example further down, we might want to allow the function to take some other potential named parameters. How can we fix our function then? This time, with ```**```."
   ]
  },
  {
   "cell_type": "code",
   "execution_count": 9,
   "metadata": {},
   "outputs": [
    {
     "name": "stdout",
     "output_type": "stream",
     "text": [
      "a: 4\n",
      "b: [1, 2, 3]\n",
      "c: {'so_new': True, 'even_newer': 100, 'freshest_of_all': [20, 5, 1]}\n"
     ]
    }
   ],
   "source": [
    "def using_kwargs(a, b, **c):\n",
    "    print(f\"a: {a}\\nb: {b}\\nc: {c}\")\n",
    "    \n",
    "using_kwargs(a=4, b=[1, 2, 3], so_new=True, even_newer=100, freshest_of_all=[20, 5, 1])"
   ]
  },
  {
   "cell_type": "markdown",
   "metadata": {},
   "source": [
    "We see here that all of the new named inputs that were not previously defined are now stored into a dictionary where the key represents the name of the parameter , e.g. ```so_new``` and the value of that dictionary entry is the value passed in the function, e.g. ```True```. If this isn't great already, think that you can also use them together:"
   ]
  },
  {
   "cell_type": "code",
   "execution_count": 15,
   "metadata": {},
   "outputs": [
    {
     "name": "stdout",
     "output_type": "stream",
     "text": [
      "a: 4\n",
      "args: (5, 6, \"I'm an arg\", [1, 2, 3])\n",
      "kwargs: {'test': 'success', 'so': 'simple', 'where': \"I'm in a dictionary\"}\n"
     ]
    }
   ],
   "source": [
    "def using_both(a, *b, **c):\n",
    "    print(f\"a: {a}\\nargs: {b}\\nkwargs: {c}\")\n",
    "    \n",
    "using_both(4, 5, 6, \"I'm an arg\", [1, 2, 3], test=\"success\", so=\"simple\", where=\"I'm in a dictionary\")"
   ]
  },
  {
   "cell_type": "markdown",
   "metadata": {},
   "source": [
    "If it wasn't clear yet, I suggest you take an extra second to look at that previous example. The idea is that ```a``` took the first input (the number 4), the ```b``` took the rest of the unnamed inputs (the 5 all the way to the list [1, 2, 3]) because of the ```*``` and the ```c``` took all of the named inputs because of the ```**``` and the fact that the only really defined input we had was the ```a```.\n",
    "\n",
    "As before, the order of your parameters when defining the function matters. To be safe, remember to always put your ```*args``` and ```**kwargs``` at the end:\n",
    "\n",
    "```python\n",
    "def my_function(a, b, c, d, ...,  *args, **kwargs)\n",
    "```\n",
    "\n",
    "Think of this when you use the function as well. If you tried to do something like this you would get an error (try it anyway to see):\n",
    "\n",
    "```python\n",
    "def my_function(a, b, c, d, *args, **kwargs):\n",
    "    pass #Since we can't leave this blank, we put pass to say \"don't do anything\"\n",
    "\n",
    "my_function(5, 4, 3, 2, 'extra arg', a='this is A', extra='extra kwarg')\n",
    "```\n",
    "\n",
    "One might expect that since we are explicitly telling the function to put ```'This is A'``` into the variable ```a```, it would be able to take care of the \"extra\" arguments (5, 4, 3, 2 and 'extra arg') by putting them into ```args```. However, the spot inside of ```a``` is taken by the 5 before you even reach your explicit use of ```a='This is A'```.  Be mindful of this type of situations."
   ]
  },
  {
   "cell_type": "markdown",
   "metadata": {},
   "source": [
    "## \\*kwargs for unpacking -  Setting dictionaries free\n",
    "\n",
    "<img src=\"2_asterisk_left.png\" alt=\"2left\" style=\"width: 500px;\"/>\n",
    "\n",
    "I imagine that those who read through the whole post already understand what's about to happen in this section. But I don't expect everybody to have read every word I wrote up to now so, here are the secrets of ```**``` unpacking.\n",
    "\n",
    "Sometimes you might have a dictionary filled with key-value pairs that you want to use within a function. Maybe you didn't write the function yourself or you didn't plan for it to take a dictionary and you can't really change it now or you would risk breaking the rest of your code. With ```**``` you can easily use your dictionary like this:"
   ]
  },
  {
   "cell_type": "code",
   "execution_count": 18,
   "metadata": {},
   "outputs": [
    {
     "name": "stdout",
     "output_type": "stream",
     "text": [
      "What an interesting result: 10\n"
     ]
    }
   ],
   "source": [
    "def interesting_function(x, y):\n",
    "    print(f'What an interesting result: {x + y}')\n",
    "\n",
    "my_dict_data = {\"x\":2, \"y\":8}\n",
    "          \n",
    "interesting_function(**my_dict_data)"
   ]
  },
  {
   "cell_type": "markdown",
   "metadata": {},
   "source": [
    "Was this quite underwhelming as well. Then:\n",
    "1. That's great, you understand that \\*\\*kwargs are actually not difficult at all\n",
    "2. You might find in the future that it can solve some problems very neatly"
   ]
  },
  {
   "cell_type": "markdown",
   "metadata": {},
   "source": [
    "# Conclusion\n",
    "If you read all the way down here, hopefully you were able to understand what ```*args``` and ```**kwargs``` really do. In fact, from now on. hopefully you will think of them as ```*``` and ```**``` instead and see that they are essentially nothing more special than tuple packing/unpacking and dictionary packing/unpacking functions.\n",
    "\n",
    "If you have any questions or comments, I would love to hear them by a comment/message/general social media. Otherwise, go sprinkle some stars over your code!"
   ]
  }
 ],
 "metadata": {
  "kernelspec": {
   "display_name": "Python 3",
   "language": "python",
   "name": "python3"
  },
  "language_info": {
   "codemirror_mode": {
    "name": "ipython",
    "version": 3
   },
   "file_extension": ".py",
   "mimetype": "text/x-python",
   "name": "python",
   "nbconvert_exporter": "python",
   "pygments_lexer": "ipython3",
   "version": "3.8.2"
  }
 },
 "nbformat": 4,
 "nbformat_minor": 4
}
